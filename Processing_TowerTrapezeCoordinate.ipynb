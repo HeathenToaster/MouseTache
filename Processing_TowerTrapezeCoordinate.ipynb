{
 "cells": [
  {
   "cell_type": "markdown",
   "metadata": {},
   "source": [
    "## Overview\n",
    "\n",
    "This notebook allows to follow all the processing perfromed in the Behavioral_Analysis notebook ( which run behavioral_analysis functions)\n",
    "It sometimes try to clarify some potential complications\n"
   ]
  },
  {
   "cell_type": "code",
   "execution_count": 1,
   "metadata": {},
   "outputs": [],
   "source": [
    "import os\n",
    "import glob\n",
    "import pandas as pd\n",
    "import ast\n",
    "#import time\n"
   ]
  },
  {
   "cell_type": "code",
   "execution_count": 4,
   "metadata": {},
   "outputs": [
    {
     "name": "stdout",
     "output_type": "stream",
     "text": [
      "Found 3 mice in the data folder: MOU4516, MOU4518, MOU4551\n",
      "\n",
      "Hello, I'm MOU4516! I have foraged for 6 sessions:\n",
      "['MOU4516_20240605-1103', 'MOU4516_20240605-1513', 'MOU4516_20240606-1144', 'MOU4516_20240606-1621', 'MOU4516_20240607-1101', 'MOU4516_20240607-1444'] \n",
      "\n",
      "Hello, I'm MOU4518! I have foraged for 6 sessions:\n",
      "['MOU4518_20240605-1124', 'MOU4518_20240605-1533', 'MOU4518_20240606-1202', 'MOU4518_20240606-1638', 'MOU4518_20240607-1116', 'MOU4518_20240607-1500'] \n",
      "\n",
      "Hello, I'm MOU4551! I have foraged for 46 sessions:\n",
      "['MOU4551_20240718-1049', 'MOU4551_20240718-1620', 'MOU4551_20240719-1047', 'MOU4551_20240719-1548', 'MOU4551_20240720-1016', 'MOU4551_20240720-1448', 'MOU4551_20240721-1015', 'MOU4551_20240721-1447', 'MOU4551_20240722-1010', 'MOU4551_20240722-1458', 'MOU4551_20240723-1013', 'MOU4551_20240723-1508', 'MOU4551_20240724-1013', 'MOU4551_20240724-1504', 'MOU4551_20240725-1015', 'MOU4551_20240725-1511', 'MOU4551_20240726-1004', 'MOU4551_20240726-1510', 'MOU4551_20240727-0955', 'MOU4551_20240727-1458', 'MOU4551_20240728-1033', 'MOU4551_20240728-1527', 'MOU4551_20240729-1002', 'MOU4551_20240729-1451', 'MOU4551_20240730-1011', 'MOU4551_20240730-1519', 'MOU4551_20240731-1137', 'MOU4551_20240731-1623', 'MOU4551_20240801-1131', 'MOU4551_20240801-1557', 'MOU4551_20240802-1145', 'MOU4551_20240802-1650', 'MOU4551_20240803-1105', 'MOU4551_20240803-1558', 'MOU4551_20240804-1201', 'MOU4551_20240804-1625', 'MOU4551_20240805-1135', 'MOU4551_20240805-1527', 'MOU4551_20240806-1200', 'MOU4551_20240806-1559', 'MOU4551_20240807-1139', 'MOU4551_20240807-1632', 'MOU4551_20240808-1159', 'MOU4551_20240808-1659', 'MOU4551_20240809-1007', 'MOU4551_20240809-1512'] \n",
      "\n"
     ]
    }
   ],
   "source": [
    "# the path_to_data_folder is the path of the folder where you store your different mice.\n",
    "\n",
    "# Windows:\n",
    "# path_to_data_folder='C:'+os.sep+'Users'+os.sep+'MORVAN'+os.sep+'Documents'+os.sep+'patchouris'+os.sep+'Sample_Data'+os.sep\n",
    "# Linux:\n",
    "# path_to_data_folder '/home/david/Documents/Code/ForagingProject/Patchouris/patchouris/Sample_Data/'\n",
    "# MacOs\n",
    "#path_to_data_folder = '/Users/davidrobbe/Documents/Science/Data/ForagingMice/'\n",
    "\n",
    "\n",
    "#path_to_data_folder='/home/david/Documents/David/Data/'\n",
    "path_to_data_folder='/LocalData/ForagingMice/JAK2Data'\n",
    "path_to_data_folder='/LocalData/ForagingMice/MaudData'\n",
    "\n",
    "#path_to_data_folder = '/Users/davidrobbe/Documents/Science/Data/ForagingMice/'\n",
    "\n",
    "\n",
    "pattern_of_MOU_Folders = os.path.join(path_to_data_folder, \"MOU*\")\n",
    "\n",
    "# List all mice in the data folder (If you want to process all the mice in your data folder),\n",
    "mice_list = [os.path.basename(path) for path in glob.glob(pattern_of_MOU_Folders)]\n",
    "mice_list=sorted(mice_list)\n",
    "\n",
    "# Print the number of mice, the list of mice, and add an empty line\n",
    "print(f'Found {len(mice_list)} {\"mice\" if len(mice_list) > 1 else \"mouse\"} in the data folder: {\", \".join(mice_list)}\\n')\n",
    "\n",
    "\n",
    "#If you want to process a subset of mice uncomment the line below and comment the 2 lines above\n",
    "\n",
    "#mice_list: list[str] = [\"MOU2334\"]  # For processing  a single mice. Equivalent to mice_list = [\"MOU2334\"] but more correct as it forces to create a list of string\n",
    "#mice_list=['MOU2329', 'MOU2330', 'MOU2331', 'MOU2332', 'MOU2333', 'MOU2334']\n",
    "#print(f'Found {len(mice_list)} {\"mice\" if len(mice_list) > 1 else \"mouse\"} in the data folder:')\n",
    "\n",
    "session_list = {}\n",
    "for mouse in mice_list:\n",
    "    mouse_folder = os.path.join(path_to_data_folder,mouse)\n",
    "    session_list[mouse] = sorted([name for name in os.listdir(mouse_folder)\n",
    "                           if os.path.isdir(os.path.join(mouse_folder, name))\n",
    "                           and name.startswith('MOU')])\n",
    "    nb_sessions = len(session_list[mouse])\n",
    "    print(f'Hello, I\\'m {mouse}! I have foraged for {nb_sessions} sessions:')\n",
    "    print(session_list[mouse], '\\n')\n",
    "\n",
    "\n",
    "\n",
    "\n",
    "\n",
    "\n"
   ]
  },
  {
   "cell_type": "markdown",
   "metadata": {},
   "source": [
    "We just print the list of mice, the dictionnany of sessions across mice and then we will choose a single mice and single session for illustration purpose"
   ]
  },
  {
   "cell_type": "code",
   "execution_count": 6,
   "metadata": {},
   "outputs": [
    {
     "name": "stdout",
     "output_type": "stream",
     "text": [
      "/LocalData/ForagingMice/MaudData/MOU4551\n",
      "MOU4551_20240718-1049\n"
     ]
    }
   ],
   "source": [
    "folder_path_mouse_to_process=os.path.join(path_to_data_folder,mice_list[2])\n",
    "#folder_path_mouse_to_process=os.path.join(path_to_data_folder,'MOU4624')\n",
    "print(folder_path_mouse_to_process)\n",
    "\n",
    "session_to_process=session_list[mice_list[2]][0]\n",
    "#session_to_process='MOU4624_20240806-1512'\n",
    "print(session_to_process)\n"
   ]
  },
  {
   "cell_type": "markdown",
   "metadata": {},
   "source": [
    "### This code  generate the coordinates of the 4 towers and the trapezes around them either from defualt data or data loaded in the parameter file\n",
    "\n",
    "##### this step involves: \n",
    "##### 1- a tricky vertical symetries due to differential references of the coordinate entered in the aquisition program (ref on the upper left corner in opencv) and in matplotlib (ref on the lower left corner)\n",
    "##### 2- a conversion from pixel to cm"
   ]
  },
  {
   "cell_type": "code",
   "execution_count": null,
   "metadata": {},
   "outputs": [],
   "source": [
    "######################################\n",
    "# maze information\n",
    "######################################\n",
    "\n",
    "# Mice have to run around 4 towers to obtain rewards. Rewards are delivered when a mouse switch from one trapeze to another concurrent trapeze\n",
    "\n",
    "\n",
    "\n",
    "#        +-----------------+                            +-----------------+\n",
    "#        | \\  Trapeze N  / |                            | \\  Trapeze N  / |\n",
    "#        |  +-----------+  |                            |  +-----------+  |\n",
    "#        |  |           |  |                            |  |           |  |\n",
    "#        |TW|   Tower   |TE|                            |TW|   Tower   |TE|\n",
    "#        |  |     NW    |  |                            |  |     NE    |  |\n",
    "#        |  |           |  |                            |  |           |  |\n",
    "#        |  +-----------+  |                            |  +-----------+  |\n",
    "#        | /    Trap S   \\ |                            | /    Trap S   \\ |\n",
    "#        +-----------------+                            +-----------------+\n",
    "\n",
    "\n",
    "\n",
    "\n",
    "\n",
    "#        +-----------------+                            +-----------------+\n",
    "#        | \\  Trapeze N  / |                            | \\  Trapeze N  / |\n",
    "#        |  +-----------+  |                            |  +-----------+  |\n",
    "#        |  |           |  |                            |  |           |  |\n",
    "#        |TW|   Tower   |TE|                            |TW|   Tower   |TE|\n",
    "#        |  |     SW    |  |                            |  |     SE    |  |\n",
    "#        |  |           |  |                            |  |           |  |\n",
    "#        |  +-----------+  |                            |  +-----------+  |\n",
    "#        | /    Trap S   \\ |                            | /    Trap S   \\ |\n",
    "#        +-----------------+                            +-----------------+\n",
    "\n",
    "\n",
    "# We therefore need  the coordinate of the 4 towers and the trapeze. The coordinate are given in the reference frame of the video. \n",
    "# The video has a dimension of 512 pixeld in width and length trapeze_width and in height. The point 0,0 is the left top corner (openCV)and will need to be changed to left bottom for matplotlib plotting \n",
    "\n",
    "\n"
   ]
  },
  {
   "cell_type": "code",
   "execution_count": 22,
   "metadata": {},
   "outputs": [],
   "source": [
    "\n",
    "def get_trapeze_and_tower_data(folder_path_mouse_to_process, session_to_process):\n",
    "\n",
    "    \"\"\"\n",
    "    Function to extract trapeze width and tower coordinates from a session parameter CSV file.\n",
    "    \n",
    "    Parameters:\n",
    "        folder_path_mouse_to_process (str): The folder path where the mouse data is stored.\n",
    "        session_to_process (str): The specific session to process.\n",
    "\n",
    "    Returns:\n",
    "        trapeze_width (int or float): The width of the trapeze.\n",
    "        towers_coordinates (dict): The coordinates of the towers.\n",
    "    \"\"\"\n",
    "    # Load the session parameters CSV file\n",
    "    param_file_path = os.path.join(folder_path_mouse_to_process, session_to_process, f\"{session_to_process}_sessionparam.csv\")\n",
    "    param_df = pd.read_csv(param_file_path)\n",
    "\n",
    "    # Check if the towers coordinates exist in the CSV file\n",
    "    if \"SE_coords\" in param_df.columns:\n",
    "        towers_coordinates = {\n",
    "            \"NW\": param_df[\"NW_coords\"].values[0],\n",
    "            \"NE\": param_df[\"NE_coords\"].values[0],\n",
    "            \"SW\": param_df[\"SW_coords\"].values[0],\n",
    "            \"SE\": param_df[\"SE_coords\"].values[0]\n",
    "        }\n",
    "        \n",
    "        # Convert string representations of lists into actual lists\n",
    "        towers_coordinates = {key: ast.literal_eval(value) for key, value in towers_coordinates.items()}\n",
    "\n",
    "        print('Coordinates from parameter file:')\n",
    "    else:\n",
    "        # Default tower coordinates\n",
    "        towers_coordinates = {\n",
    "            \"NW\": [[104, 125], [173, 125], [173, 201], [104, 201]],\n",
    "            \"NE\": [[330, 120], [400, 120], [400, 200], [330, 200]],\n",
    "            \"SW\": [[109, 351], [181, 351], [181, 410], [109, 410]],\n",
    "            \"SE\": [[330, 350], [400, 350], [400, 410], [330, 410]]\n",
    "        }\n",
    "        print('Default towers_coordinates')\n",
    "    print(towers_coordinates)\n",
    "\n",
    "    # Check if the trapeze size exists in the CSV file\n",
    "    if \"TrapezeSize\" in param_df.columns:\n",
    "        trapeze_width = param_df[\"TrapezeSize\"].values[0]\n",
    "        print('Trapeze width from parameter file:')\n",
    "    else:\n",
    "        trapeze_width = 50  # Default trapeze width\n",
    "        print('Default trapeze width')\n",
    "    print(trapeze_width)\n",
    "\n",
    "    return trapeze_width, towers_coordinates\n"
   ]
  },
  {
   "cell_type": "code",
   "execution_count": 23,
   "metadata": {},
   "outputs": [],
   "source": [
    "def generate_trapeze_and_tower_coordinates(towers_coordinates, trapeze_width):\n",
    "    \"\"\"\n",
    "    Generates the coordinates of trapezes surrounding towers and converts all coordinates from pixels to centimeters.\n",
    "    \n",
    "    Parameters:\n",
    "    towers_coordinates (dict): Dictionary containing the pixel coordinates of the 4 towers.\n",
    "    trapeze_width (int): The width of the trapeze in pixels.\n",
    "    \n",
    "    \n",
    "    Returns:\n",
    "    tuple: \n",
    "        - all_trapezes_coordinates_cm (dict): Coordinates of the trapezes in cm.\n",
    "        - towers_coordinates_cm (dict): Coordinates of the towers in cm.\n",
    "    \"\"\"\n",
    "    \n",
    "    #video_dimension_pixels (tuple): The resolution of the video in pixels \n",
    "    #arena_width_cm (float): The width of the arena in centimeters \n",
    "    #arena_width_pixels (int): The width of the arena in pixels \n",
    "    video_dimension_pixels=(512, 512)\n",
    "    arena_width_cm=84\n",
    "    arena_width_pixels=453\n",
    "\n",
    "\n",
    "\n",
    "    # Conversion factor to go from pixel to cm\n",
    "    conversion_factor = arena_width_cm / arena_width_pixels\n",
    "    \n",
    "    # Function to convert pixel coordinates to cm\n",
    "    def convert_pix_to_cm(coordinate):\n",
    "        return [round(coordinate[0] * conversion_factor, 2), round(coordinate[1] * conversion_factor, 2)]\n",
    "    \n",
    "    # Transform the coordinates to have the origin at the lower left (for plotting)\n",
    "    max_y = video_dimension_pixels[1]\n",
    "    transformed_towers_coordinates = {\n",
    "        label: [[x, max_y - y] for x, y in vertices]\n",
    "        for label, vertices in towers_coordinates.items()\n",
    "    }\n",
    "    \n",
    "    # Function to generate trapeze coordinates surrounding a tower\n",
    "    def trapeze_coordinates_from_tower(tower_coordinates, trapeze_width):\n",
    "        trapeze_N = [\n",
    "            tower_coordinates[0], tower_coordinates[1],\n",
    "            [tower_coordinates[1][0] + trapeze_width, tower_coordinates[1][1] + trapeze_width],\n",
    "            [tower_coordinates[0][0] - trapeze_width, tower_coordinates[0][1] + trapeze_width]\n",
    "        ]\n",
    "        trapeze_E = [\n",
    "            tower_coordinates[1], tower_coordinates[2],\n",
    "            [tower_coordinates[2][0] + trapeze_width, tower_coordinates[2][1] - trapeze_width],\n",
    "            [tower_coordinates[1][0] + trapeze_width, tower_coordinates[1][1] + trapeze_width]\n",
    "        ]\n",
    "        trapeze_S = [\n",
    "            tower_coordinates[2], tower_coordinates[3],\n",
    "            [tower_coordinates[3][0] - trapeze_width, tower_coordinates[3][1] - trapeze_width],\n",
    "            [tower_coordinates[2][0] + trapeze_width, tower_coordinates[2][1] - trapeze_width]\n",
    "        ]\n",
    "        trapeze_W = [\n",
    "            tower_coordinates[3], tower_coordinates[0],\n",
    "            [tower_coordinates[0][0] - trapeze_width, tower_coordinates[0][1] + trapeze_width],\n",
    "            [tower_coordinates[3][0] - trapeze_width, tower_coordinates[3][1] - trapeze_width]\n",
    "        ]\n",
    "        return trapeze_N, trapeze_E, trapeze_S, trapeze_W\n",
    "    \n",
    "    # Initialize dictionaries to store trapeze and tower coordinates in cm\n",
    "    all_trapezes_coordinates = {key: {} for key in towers_coordinates}\n",
    "    all_trapezes_coordinates_cm = {}\n",
    "    \n",
    "    # Generate trapeze coordinates for each tower\n",
    "    for tower_name, tower_coordinates in transformed_towers_coordinates.items():\n",
    "        all_trapezes_coordinates[tower_name][\"N\"], \\\n",
    "        all_trapezes_coordinates[tower_name][\"E\"], \\\n",
    "        all_trapezes_coordinates[tower_name][\"S\"], \\\n",
    "        all_trapezes_coordinates[tower_name][\"W\"] = trapeze_coordinates_from_tower(tower_coordinates, trapeze_width)\n",
    "\n",
    "    # Convert all trapeze coordinates from pixel to cm\n",
    "    for tower, trapezes in all_trapezes_coordinates.items():\n",
    "        all_trapezes_coordinates_cm[tower] = {\n",
    "            trapeze: [convert_pix_to_cm(coord) for coord in coords]\n",
    "            for trapeze, coords in trapezes.items()\n",
    "        }\n",
    "    \n",
    "    # Convert tower coordinates from pixel to cm\n",
    "    towers_coordinates_cm = {\n",
    "        key: [convert_pix_to_cm(coord) for coord in transformed_towers_coordinates[key]]\n",
    "    for key in transformed_towers_coordinates}\n",
    "\n",
    "    return all_trapezes_coordinates_cm, towers_coordinates_cm\n"
   ]
  },
  {
   "cell_type": "code",
   "execution_count": 24,
   "metadata": {},
   "outputs": [
    {
     "name": "stdout",
     "output_type": "stream",
     "text": [
      "Coordinates from parameter file:\n",
      "{'NW': [[105, 120], [180, 120], [180, 195], [105, 195]], 'NE': [[325, 120], [405, 120], [405, 195], [325, 195]], 'SW': [[115, 342], [185, 342], [185, 412], [115, 412]], 'SE': [[325, 342], [400, 342], [400, 412], [325, 412]]}\n",
      "Trapeze width from parameter file:\n",
      "30\n"
     ]
    }
   ],
   "source": [
    "trapeze_width, towers_coordinates = get_trapeze_and_tower_data(folder_path_mouse_to_process, session_to_process)\n"
   ]
  },
  {
   "cell_type": "code",
   "execution_count": 26,
   "metadata": {},
   "outputs": [
    {
     "name": "stdout",
     "output_type": "stream",
     "text": [
      "{'NW': {'N': [[19.47, 72.69], [33.38, 72.69], [np.float64(38.94), np.float64(78.25)], [np.float64(13.91), np.float64(78.25)]], 'E': [[33.38, 72.69], [33.38, 58.78], [np.float64(38.94), np.float64(53.22)], [np.float64(38.94), np.float64(78.25)]], 'S': [[33.38, 58.78], [19.47, 58.78], [np.float64(13.91), np.float64(53.22)], [np.float64(38.94), np.float64(53.22)]], 'W': [[19.47, 58.78], [19.47, 72.69], [np.float64(13.91), np.float64(78.25)], [np.float64(13.91), np.float64(53.22)]]}, 'NE': {'N': [[60.26, 72.69], [75.1, 72.69], [np.float64(80.66), np.float64(78.25)], [np.float64(54.7), np.float64(78.25)]], 'E': [[75.1, 72.69], [75.1, 58.78], [np.float64(80.66), np.float64(53.22)], [np.float64(80.66), np.float64(78.25)]], 'S': [[75.1, 58.78], [60.26, 58.78], [np.float64(54.7), np.float64(53.22)], [np.float64(80.66), np.float64(53.22)]], 'W': [[60.26, 58.78], [60.26, 72.69], [np.float64(54.7), np.float64(78.25)], [np.float64(54.7), np.float64(53.22)]]}, 'SW': {'N': [[21.32, 31.52], [34.3, 31.52], [np.float64(39.87), np.float64(37.09)], [np.float64(15.76), np.float64(37.09)]], 'E': [[34.3, 31.52], [34.3, 18.54], [np.float64(39.87), np.float64(12.98)], [np.float64(39.87), np.float64(37.09)]], 'S': [[34.3, 18.54], [21.32, 18.54], [np.float64(15.76), np.float64(12.98)], [np.float64(39.87), np.float64(12.98)]], 'W': [[21.32, 18.54], [21.32, 31.52], [np.float64(15.76), np.float64(37.09)], [np.float64(15.76), np.float64(12.98)]]}, 'SE': {'N': [[60.26, 31.52], [74.17, 31.52], [np.float64(79.74), np.float64(37.09)], [np.float64(54.7), np.float64(37.09)]], 'E': [[74.17, 31.52], [74.17, 18.54], [np.float64(79.74), np.float64(12.98)], [np.float64(79.74), np.float64(37.09)]], 'S': [[74.17, 18.54], [60.26, 18.54], [np.float64(54.7), np.float64(12.98)], [np.float64(79.74), np.float64(12.98)]], 'W': [[60.26, 18.54], [60.26, 31.52], [np.float64(54.7), np.float64(37.09)], [np.float64(54.7), np.float64(12.98)]]}}\n"
     ]
    }
   ],
   "source": [
    "all_trapezes_coordinates_cm, towers_coordinates_cm= generate_trapeze_and_tower_coordinates(towers_coordinates, trapeze_width)\n",
    "print(all_trapezes_coordinates_cm)"
   ]
  },
  {
   "cell_type": "code",
   "execution_count": null,
   "metadata": {},
   "outputs": [],
   "source": []
  }
 ],
 "metadata": {
  "kernelspec": {
   "display_name": ".venv",
   "language": "python",
   "name": "python3"
  },
  "language_info": {
   "codemirror_mode": {
    "name": "ipython",
    "version": 3
   },
   "file_extension": ".py",
   "mimetype": "text/x-python",
   "name": "python",
   "nbconvert_exporter": "python",
   "pygments_lexer": "ipython3",
   "version": "3.12.3"
  }
 },
 "nbformat": 4,
 "nbformat_minor": 2
}
