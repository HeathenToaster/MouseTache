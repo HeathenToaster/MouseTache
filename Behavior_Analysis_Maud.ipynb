{
 "cells": [
  {
   "attachments": {},
   "cell_type": "markdown",
   "metadata": {},
   "source": [
    "# Patchouris analysis notebook : Maud's edition\n",
    "\n",
    "This is were I'm doing test to obtain new figures"
   ]
  },
  {
   "cell_type": "markdown",
   "metadata": {},
   "source": [
    "Kernel to use here : *base (Python3.9.13)*\n",
    "\n",
    "**TO DO :**\n",
    "- Reprendre les analyses d'Alice (à partir du github MouseTache). Comment sont générés les QT de la figure \n",
    "- 2ème analyse test : pour 1 objet visité, plotter la trajectoire de chaque QT fait autour de cet objet. Le début de la trajectoire doit se trouver au centre du graphique. Tous les QT doivent donc débuter au même centre. A faire d'abord pour les 10 premiers objets visités.\n",
    "- 3ème analyse test : plotter la distribution des vitesses des QT en fonction du temps et ce pour chaque objet visité. \n",
    "- Une fois qu'on obtient les analyses voulues, passer ce qui est possible en fonction\n",
    "- Régler les échelles de chaque graphique\n",
    "- Créer une seule figure avec toutes les analyses pour chaque objet. A redimensionner correctement à la fin. "
   ]
  },
  {
   "cell_type": "markdown",
   "metadata": {},
   "source": [
    "### Imports  \n",
    "All functions are in behavior_analysis_functions.py"
   ]
  },
  {
   "cell_type": "code",
   "execution_count": 3,
   "metadata": {},
   "outputs": [],
   "source": [
    "from behavior_analysis_functions import *\n",
    "import glob\n",
    "from pandas import DataFrame"
   ]
  },
  {
   "cell_type": "markdown",
   "metadata": {},
   "source": [
    "### Get mice data\n",
    "Define root, get mice list and session for each mouse\n",
    "You can also analyze a certain list of mice depending on what you want"
   ]
  },
  {
   "cell_type": "code",
   "execution_count": 4,
   "metadata": {},
   "outputs": [
    {
     "name": "stdout",
     "output_type": "stream",
     "text": [
      "Found 45 mice in the root folder:\n"
     ]
    }
   ],
   "source": [
    "# Root of all mice data\n",
    "# root: str = 'C:'+os.sep+'Users'+os.sep+'MORVAN'+os.sep+'Documents'+os.sep+'patchouris'+os.sep+'Sample_Data'+os.sep\n",
    "root: str = '/home/david/MyLocalData/Maud/'\n",
    "\n",
    "# List all mice in the root folder\n",
    "mouse_list: list[str] = [os.path.basename(path) for path in glob.glob(root+\"/MOU*\")]\n",
    "print(f'Found {len(mouse_list)} {\"mice\" if len(mouse_list)>1 else \"mouse\"} in the root folder:')\n",
    "\n",
    "session_list: dict[str, list[str]] = {}\n",
    "for mouse in mouse_list:\n",
    "    mouse_folder = root + mouse\n",
    "    session_list[mouse] = [name for name in os.listdir(mouse_folder)\n",
    "                            if os.path.isdir(os.path.join(mouse_folder, name))\n",
    "                            and name.startswith('MOU')]\n",
    "    nb_sessions: int = len(session_list[mouse])\n",
    "    #print(f'{MOUSE_STRING}  ~Hello, I\\'m {mouse}! I have foraged for {nb_sessions} sessions.')\n",
    "    #print(session_list[mouse], '\\n')\n",
    "\n",
    "mouse_list: list[str] = [\"MOU4437_2\"] "
   ]
  },
  {
   "cell_type": "code",
   "execution_count": 5,
   "metadata": {},
   "outputs": [],
   "source": [
    "# Need to do : \n",
    "# - ajouter le dataframe créé dans l'autre doc test (foraging-task github)\n",
    "# - En fonction de ce df, adapter pour la fonction pour qu'il me génère ce graph pour les 10 premiers objets visités\n",
    "\n",
    "def figure_quarterturns_Maud(traj_df, current_movement, xgauss, ygauss, speed, angular_speed, acceleration, title='', ax1=None):\n",
    "    if ax1 is None:\n",
    "        _, ax1 = plt.subplots(1, 1, figsize=(5, 5))\n",
    "\n",
    "\n",
    "    for patch in collection_trapeze:  #plot the trapeze around the object\n",
    "        for trapeze in collection_trapeze[patch]:\n",
    "            shape = Polygon(np.array(collection_trapeze[patch][trapeze]), color=\"lemonchiffon\")\n",
    "            ax1.add_patch(shape)\n",
    "        for u in current_movement:  #plot each individual trajectory of the current category\n",
    "            colors = plt.cm.rainbow(np.random.random())\n",
    "            if len(u) != 0:\n",
    "                ax1.plot(xgauss[u[0]:u[1]], ygauss[u[0]:u[1]], lw=0.5, c=colors)\n",
    "            else:\n",
    "                pass\n",
    "\n",
    "    #Plots a colored dot at the begining and end of each epoch\n",
    "    indices_start = [u[0] for u in current_movement]\n",
    "    indices_end = [u[1] for u in current_movement]\n",
    "    if len(indices_start) != 0 or len(indices_end) != 0:\n",
    "        ax1.scatter(xgauss[indices_start], ygauss[indices_start], linewidths=0.1, color=\"green\")\n",
    "        ax1.scatter(xgauss[indices_end], ygauss[indices_end], linewidths= 0.1, color=\"red\")\n",
    "    else:\n",
    "        pass\n",
    "\n",
    "    timeSpentIn = round(sum([traj_df.loc[traj_df.index[epoch[1]], 'time'] - traj_df.loc[traj_df.index[epoch[0]], 'time'] for epoch in current_movement]), 2)\n",
    "\n",
    "    #Sets the parameters of the graph\n",
    "    ax1.set_ylim(0, 500)\n",
    "    ax1.set_xlim(0, 500)\n",
    "    ax1.set_title(title + str(len(current_movement)) + f\"\\n total time: {timeSpentIn}s\")\n",
    "    ax1.get_xaxis().set_visible(False)\n",
    "    ax1.get_yaxis().set_visible(False)"
   ]
  },
  {
   "cell_type": "code",
   "execution_count": 6,
   "metadata": {},
   "outputs": [],
   "source": [
    "mouse = 'MOU4437_2'\n",
    "mouseFolder_Path=root+mouse\n",
    "session = 'MOU4437_2_20240313-1144'\n",
    "# Load the data\n",
    "traj_df, turns_df, param_df = load_data(mouseFolder_Path, session)\n",
    "phase, direction, cno = get_phase_direction_cno(param_df)\n",
    "\n",
    "###############################################################################\n",
    "###############################################################################\n",
    "# unpack the data\n",
    "size_of_traj_df = len(traj_df) #Gets some informations in a more convenient form\n",
    "time = traj_df['time'].to_numpy()\n",
    "xposition = traj_df['xposition'].to_numpy()\n",
    "yposition = traj_df['yposition'].to_numpy()\n",
    "yposition = RESOLUTION[1] - yposition #yposition is inverted, puts it back in the right way\n",
    "xgauss = smooth(xposition, TRUE_SIGMA)\n",
    "ygauss = smooth(yposition, TRUE_SIGMA) #Smoothes the positions with true sigma\n",
    "\n",
    "#Does the actual analysis. The remaining part consists in accessing the pertinent informations and plotting them\n",
    "distance, speed, time_average, acceleration, angles, angular_speed, list_epochs = analysis_trajectory(\n",
    "    time, xgauss, ygauss, collection_trapeze, turns_df, TRUE_CUT_SPEED, TRUE_ECART_ANGLE, RESOLUTION,\n",
    "    MIN_DURATION_EPOCH=MINIMAL_DURATION_EPOCH, MIN_DURATION_STOP=MINIMAL_DURATION_STOP)\n",
    "\n",
    "#prepare lists of epochs corresponding to diffrent type of behavior\n",
    "stops_type = {\"rewarded\":[], \"unrewarded\":[]}\n",
    "for i in range(len(list_epochs) - 1):\n",
    "    if list_epochs[i][2][0] == \"Q\": #If this is a quarter turn\n",
    "        if list_epochs[i][2][2] == \"G\": #If this is a good turn and thus a rewarded quarter turn\n",
    "            stops_type[\"rewarded\"].append([list_epochs[i][1], list_epochs[i + 1][0]])\n",
    "        else: #Then the quarter turn was not rewarded\n",
    "            stops_type[\"unrewarded\"].append([list_epochs[i][1], list_epochs[i + 1][0]])\n",
    "    #elif list_epochs[i][2][0] == \"B\": #If this is a between objects\n",
    "    #    if list_epochs[i][2][5] == 'r': #If the trajectory was rewarded\n",
    "    #        stops_type[\"rewarded\"].append([list_epochs[i][1], list_epochs[i + 1][0]])\n",
    "    #    else: #Then the between objects was unrewarded\n",
    "    #        stops_type[\"unrewarded\"].append([list_epochs[i][1], list_epochs[i + 1][0]])\n",
    "\n",
    "list_quarter_turn = [epoch for epoch in list_epochs if epoch[2][0] == \"Q\"] #Gets the list of all quarter turns\n",
    "list_between_objects = [epoch for epoch in list_epochs if epoch[2][0] == \"B\"] #Gets all trajectories between objects\n",
    "list_toward_object = [epoch for epoch in list_epochs if epoch[2][0] == \"T\"] #Gets all trajectories towards objects\n",
    "list_movement_not_quarter = [epoch for epoch in list_epochs if epoch[2][0] == \"N\"] #Gets all explorative trajectories\n",
    "list_of_stops = [[list_epochs[a - 1][1 ] + 1, list_epochs[a][0] - 1] for a in range(1, len(list_epochs))]\n",
    "\n",
    "#Creates a list for each type of quarter turn\n",
    "rewarded = [epoch for epoch in list_quarter_turn if epoch[2][2] == 'G']\n",
    "unrewarded = [epoch for epoch in list_quarter_turn if epoch[2][2] != 'G']\n",
    "extra = [epoch for epoch in list_quarter_turn if epoch[2][2] == 'E']\n",
    "badDirection = [epoch for epoch in list_quarter_turn if epoch[2][2] == 'B']\n",
    "wrongObject = [epoch for epoch in list_quarter_turn if epoch[2][2] == 'O']\n",
    "doubleWrong = [epoch for epoch in list_quarter_turn if epoch[2][2] == 'H']\n",
    "\n",
    "# between_reward = [epoch for epoch in list_between_objects if epoch[2][5] == 'r']\n",
    "# between_unrewarded = [epoch for epoch in list_between_objects if epoch[2][5] == 'n']\n",
    "\n",
    "anti_clock_turn = [epoch for epoch in list_quarter_turn if epoch[2][1] == \"k\"]\n",
    "clock_turn = [epoch for epoch in list_quarter_turn if epoch[2][1] == \"w\"]\n",
    "exploring = [epoch for epoch in list_quarter_turn if epoch[2][2] == 'X']\n",
    "\n",
    "when_reward = [[turns_df.loc[a, \"time\"], turns_df.loc[a, \"currentPatch\"]] for a in turns_df.index if turns_df.loc[a, \"Rewarded\"]]\n",
    "when_no_reward = [[turns_df.loc[a, \"time\"], turns_df.loc[a, \"currentPatch\"]] for a in turns_df.index if not turns_df.loc[a, \"Rewarded\"]]"
   ]
  },
  {
   "cell_type": "code",
   "execution_count": 8,
   "metadata": {},
   "outputs": [],
   "source": [
    "# Generate the figure according to analysis of cells above \n",
    "# To do : reduce the size + be able to chose which visited object number I want to look at and not all QT of the session \n",
    "\n",
    "fig, ax = plt.subplots(1, 1, figsize=(4, 4))\n",
    "\n",
    "figure_quarterturns_Maud(traj_df, list_quarter_turn, xgauss, ygauss, speed, angular_speed, acceleration, \"Quarter turns: \", ax1=ax)\n",
    "plt.close()"
   ]
  },
  {
   "cell_type": "code",
   "execution_count": 9,
   "metadata": {},
   "outputs": [],
   "source": [
    "# Function to reset indexes of dataframes\n",
    "\n",
    "def reset_index(df : DataFrame)-> DataFrame:\n",
    "    \"\"\" \n",
    "    This function resets indexes of the dataframe you want\n",
    "    Parameters : \n",
    "    - df : the dataframe you want to reset indexes \n",
    "    - reset_df : the name of the dataframe that has been reset \n",
    "    \n",
    "    Returns the dataframe indexed from 0\n",
    "    \"\"\"\n",
    "    reset_df = df.reset_index(drop=True)\n",
    "    return reset_df"
   ]
  },
  {
   "cell_type": "code",
   "execution_count": 32,
   "metadata": {},
   "outputs": [
    {
     "name": "stdout",
     "output_type": "stream",
     "text": [
      "turns_df indexes have been reset ! New Dataframe is now named : turns_df_reset \n",
      "\n",
      "        time  framenumber  xposition  yposition currentPatch previousTrapeze  \\\n",
      "0     15.915          360         79        230           NW               W   \n",
      "1     16.953          386        202        336           SW               N   \n",
      "2     17.833          408        191        425           SW               E   \n",
      "3     18.794          432        100        399           SW               S   \n",
      "4     19.596          452         97        336           SW               W   \n",
      "..       ...          ...        ...        ...          ...             ...   \n",
      "667  711.526        17741        404        327           SE               E   \n",
      "668  712.808        17773        412        203           NE               S   \n",
      "669  713.646        17794        406        111           NE               E   \n",
      "670  714.408        17813        305        105           NE               N   \n",
      "671  715.527        17841        302        242           NE               W   \n",
      "\n",
      "    currentTrapeze  turnDirection ongoingRewardedObject  \\\n",
      "0                S           90.0                ['NW']   \n",
      "1                E          270.0                ['SW']   \n",
      "2                S          270.0                ['SW']   \n",
      "3                W          270.0                ['SW']   \n",
      "4                N          270.0                ['SW']   \n",
      "..             ...            ...                   ...   \n",
      "667              N           90.0                ['SE']   \n",
      "668              E           90.0                ['NE']   \n",
      "669              N           90.0                ['NE']   \n",
      "670              W           90.0                ['NE']   \n",
      "671              S           90.0                ['NE']   \n",
      "\n",
      "    ongoingRewardedDirection Rewarded typeOfTurn  nberOfConsecRewards  \\\n",
      "0                    [270.0]    False       gobd                    5   \n",
      "1                    [270.0]        1       gogd                    6   \n",
      "2                    [270.0]        1       gogd                    7   \n",
      "3                    [270.0]        1       gogd                    8   \n",
      "4                    [270.0]        0     gogdnr                    0   \n",
      "..                       ...      ...        ...                  ...   \n",
      "667                   [90.0]        1       gogd                   20   \n",
      "668                   [90.0]        1       gogd                   21   \n",
      "669                   [90.0]        1       gogd                   22   \n",
      "670                   [90.0]        1       gogd                   23   \n",
      "671                   [90.0]        0     gogdnr                    0   \n",
      "\n",
      "     maxNberOfConsecRewards  nbQT_sinceLastReward  nbRewardsWhileDepleting  \\\n",
      "0                         0                     0                        2   \n",
      "1                         0                     0                        1   \n",
      "2                         0                     0                        2   \n",
      "3                         0                     0                        3   \n",
      "4                         0                     1                        3   \n",
      "..                      ...                   ...                      ...   \n",
      "667                       0                     0                        3   \n",
      "668                       0                     0                        1   \n",
      "669                       0                     0                        2   \n",
      "670                       0                     0                        3   \n",
      "671                       0                     1                        3   \n",
      "\n",
      "     totalnberOfRewards  \n",
      "0                     5  \n",
      "1                     6  \n",
      "2                     7  \n",
      "3                     8  \n",
      "4                     8  \n",
      "..                  ...  \n",
      "667                 532  \n",
      "668                 533  \n",
      "669                 534  \n",
      "670                 535  \n",
      "671                 535  \n",
      "\n",
      "[672 rows x 17 columns]\n"
     ]
    }
   ],
   "source": [
    "# Reset les index de turns_df pour la première partie de figure\n",
    "\n",
    "turns_df_reset = reset_index(turns_df)\n",
    "print(\"turns_df indexes have been reset ! New Dataframe is now named : turns_df_reset \\n\")\n",
    "print(turns_df_reset)"
   ]
  },
  {
   "cell_type": "code",
   "execution_count": 29,
   "metadata": {},
   "outputs": [
    {
     "name": "stdout",
     "output_type": "stream",
     "text": [
      "Your new dataframe is created as : visites_df \n",
      "You can now know when the animal entered and got out of each object \n",
      "\n",
      "\n",
      "    Objet visité  temps d'entrée  temps de sortie\n",
      "0             NW          15.915           15.915\n",
      "1             SW          16.953           20.319\n",
      "2             SE          21.035           22.517\n",
      "3             NE          24.078           26.559\n",
      "4             NW          27.879           30.362\n",
      "..           ...             ...              ...\n",
      "173           SW         673.825          675.386\n",
      "174           NW         675.666          675.666\n",
      "175           SW         679.588          688.314\n",
      "176           SE         704.001          711.526\n",
      "177           NE         712.808          715.527\n",
      "\n",
      "[178 rows x 3 columns]\n"
     ]
    }
   ],
   "source": [
    "# Création d'un dataframe pour plotter la trajectoire de chaque objet \n",
    "# Pourquoi un nouveau df ? Parce que je veux regrouper les infos que je trouve dans 2 dataframes (turns_df et traj_df)\n",
    "\n",
    "objets_visites = []\n",
    "temps_entree = []\n",
    "temps_sortie = []\n",
    "current_patch = None\n",
    "\n",
    "for index, row in turns_df_reset.iterrows():\n",
    "\n",
    "    # Si c'est la première ligne ou si le current_patch a changé\n",
    "    if index == 0 or row['currentPatch'] != turns_df_reset.loc[index - 1]['currentPatch']:\n",
    "\n",
    "        # Sauvegarde du currentPatch dans la liste des objets visités\n",
    "        objets_visites.append(row['currentPatch'])\n",
    "        \n",
    "        # Sauvegarde du temps d'entrée\n",
    "        temps_entree.append(row['time'])\n",
    "        \n",
    "        # Si ce n'est pas la première ligne, sauvegarder le temps de sortie précédent\n",
    "        if index != 0:\n",
    "            temps_sortie.append(turns_df_reset.iloc[index - 1]['time'])\n",
    "            #nb_QT.append(turns_df.iloc[index - 1]['nberOfConsecRewards'])\n",
    "\n",
    "# Ajouter le temps de sortie pour la dernière ligne\n",
    "if not turns_df_reset.empty:\n",
    "    temps_sortie.append(turns_df_reset.iloc[-1]['time'])\n",
    "    #nb_QT.append(turns_df.iloc[-1]['nberOfConsecRewards'])\n",
    "\n",
    "# Création du DataFrame à partir des listes\n",
    "# TO DO : trouver un meilleur nom pour ce dataframe...\n",
    "\n",
    "visites_df = pd.DataFrame({\n",
    "    \"Objet visité\": objets_visites,\n",
    "    \"temps d'entrée\": temps_entree,\n",
    "    \"temps de sortie\": temps_sortie\n",
    "    })\n",
    "\n",
    "print(\"Your new dataframe is created as : visites_df \\nYou can now know when the animal entered and got out of each object \\n\\n\")\n",
    "print(visites_df)"
   ]
  },
  {
   "cell_type": "code",
   "execution_count": 31,
   "metadata": {},
   "outputs": [
    {
     "name": "stdout",
     "output_type": "stream",
     "text": [
      "traj_df indexes have been reset ! New Dataframe is now named : traj_df_reset \n",
      "\n",
      "          time  xposition  yposition\n",
      "0       15.032       88.0      176.0\n",
      "1       15.074       88.0      176.0\n",
      "2       15.113       88.0      176.0\n",
      "3       15.153       88.0      175.0\n",
      "4       15.194       87.0      173.0\n",
      "...        ...        ...        ...\n",
      "17611  719.847      462.0      267.0\n",
      "17612  719.890      462.0      267.0\n",
      "17613  719.930      462.0      267.0\n",
      "17614  719.970      462.0      267.0\n",
      "17615  720.009      462.0      267.0\n",
      "\n",
      "[17616 rows x 3 columns]\n"
     ]
    }
   ],
   "source": [
    "# Reset les index de traj_df pour la première partie de figure\n",
    "\n",
    "traj_df_reset = reset_index(traj_df)\n",
    "print(\"traj_df indexes have been reset ! New Dataframe is now named : traj_df_reset \\n\")\n",
    "print(traj_df_reset)"
   ]
  },
  {
   "cell_type": "code",
   "execution_count": null,
   "metadata": {},
   "outputs": [],
   "source": [
    "# Cellule pour calculer le nombre total de changement d'objet dans la session "
   ]
  }
 ],
 "metadata": {
  "kernelspec": {
   "display_name": "MyCorticoStriatalEnv",
   "language": "python",
   "name": "python3"
  },
  "language_info": {
   "codemirror_mode": {
    "name": "ipython",
    "version": 3
   },
   "file_extension": ".py",
   "mimetype": "text/x-python",
   "name": "python",
   "nbconvert_exporter": "python",
   "pygments_lexer": "ipython3",
   "version": "3.9.13"
  },
  "orig_nbformat": 4,
  "vscode": {
   "interpreter": {
    "hash": "ef32595c762ccb9739cab44a3564fd7db14788ae719ff921a68f38e5db018a2a"
   }
  }
 },
 "nbformat": 4,
 "nbformat_minor": 2
}
