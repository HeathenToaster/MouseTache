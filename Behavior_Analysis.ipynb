{
 "cells": [
  {
   "attachments": {},
   "cell_type": "markdown",
   "metadata": {},
   "source": [
    "# Notebook that does the processing of foraging session trajectories\n",
    "'''Documentation about the task here'''"
   ]
  },
  {
   "cell_type": "markdown",
   "metadata": {},
   "source": [
    "### Imports  \n",
    "All functions are in behavior_analysis_functions.py"
   ]
  },
  {
   "cell_type": "code",
   "execution_count": 1,
   "metadata": {},
   "outputs": [],
   "source": [
    "import os\n",
    "import gc\n",
    "import glob\n",
    "import time\n",
    "from behavior_analysis_functions import list_sessions_analyzed, \\\n",
    "                                    process_session, html_mouse, load_data, MOUSE_STRING\n",
    "\n",
    "\n"
   ]
  },
  {
   "cell_type": "markdown",
   "metadata": {},
   "source": [
    "### Get mice data\n",
    "Define the folder where your MOUXXX folder are, generate a list of MOUXXX folders and for each mice a list of sessions"
   ]
  },
  {
   "cell_type": "code",
   "execution_count": null,
   "metadata": {},
   "outputs": [],
   "source": [
    "# the path_to_data_folder is the path of the folder where you store your different mice.\n",
    "\n",
    "# Windows:\n",
    "# path_to_data_folder='C:'+os.sep+'Users'+os.sep+'MORVAN'+os.sep+'Documents'+os.sep+'patchouris'+os.sep+'Sample_Data'+os.sep\n",
    "# Linux:\n",
    "# path_to_data_folder '/home/david/Documents/Code/ForagingProject/Patchouris/patchouris/Sample_Data/'\n",
    "# MacOs\n",
    "# path_to_data_folder = '/Users/davidrobbe/Documents/Science/Data/ForagingMice/'\n",
    "\n",
    "\n",
    "path_to_data_folder='/LocalData/ForagingMice/JAK2Data'\n",
    "pattern_of_MOU_Folders = os.path.join(path_to_data_folder, \"MOU*\")\n",
    "#path_to_data_folder = '/Users/davidrobbe/Documents/Science/Data/ForagingMice/'\n",
    "\n",
    "# List all mice in the data folder (If you want to process all the mice in your data folder),\n",
    "mice_list = [os.path.basename(path) for path in glob.glob(pattern_of_MOU_Folders)]\n",
    "mice_list=sorted(mice_list)\n",
    "print(f'Found {len(mice_list)} {\"mice\" if len(mice_list) > 1 else \"mouse\"} in the data folder:')\n",
    "\n",
    "\n",
    "#If you want to process a subset of mice uncomment the line below and comment the 2 lines above\n",
    "\n",
    "#mice_list: list[str] = [\"MOU2334\"]  # For processing  a single mice. Equivalent to mice_list = [\"MOU2334\"] but more correct as it forces to create a list of string\n",
    "#mice_list=['MOU2329', 'MOU2330', 'MOU2331', 'MOU2332', 'MOU2333', 'MOU2334']\n",
    "#print(f'Found {len(mice_list)} {\"mice\" if len(mice_list) > 1 else \"mouse\"} in the data folder:')\n",
    "\n",
    "session_list = {}\n",
    "for mouse in mice_list:\n",
    "    mouse_folder = os.path.join(path_to_data_folder,mouse)\n",
    "    session_list[mouse] = sorted([name for name in os.listdir(mouse_folder)\n",
    "                           if os.path.isdir(os.path.join(mouse_folder, name))\n",
    "                           and name.startswith('MOU')])\n",
    "    nb_sessions = len(session_list[mouse])\n",
    "    print(f'Hello, I\\'m {mouse}! I have foraged for {nb_sessions} sessions:')\n",
    "    print(session_list[mouse], '\\n')\n",
    "\n",
    "\n",
    "\n",
    "\n"
   ]
  },
  {
   "cell_type": "markdown",
   "metadata": {},
   "source": [
    "## Process all the sessions of the mice in the mouse_list\n",
    "### the key option here is wether to force processing or not (in case the data have already been processed)\n",
    "#### for this the variable process should be set as true (to force) or false if the sessiobn has already been processed (if this is the case the name of the session has been saved in the  ListSessionsAnalyzed.txt file"
   ]
  },
  {
   "cell_type": "code",
   "execution_count": null,
   "metadata": {},
   "outputs": [],
   "source": [
    "for mouse in mouse_list:\n",
    "    print(f\"Processing {mouse}\")\n",
    "\n",
    "    # Define and create analysis folder if it doesn't exist\n",
    "    analysis_folder: str = path_to_data_folder + os.sep + mouse + os.sep + \"Analysis\"\n",
    "    if not os.path.exists(analysis_folder):\n",
    "        os.mkdir(analysis_folder)\n",
    "\n",
    "    # Check and get list of analyzed sessions for this mouse\n",
    "    txt: str = analysis_folder + os.sep + \"ListSessionsAnalyzed.txt\"\n",
    "    listSessionAnalyzed: list[str] = list_sessions_analyzed(txt)\n",
    "\n",
    "    # Process each session of the mouse if it is not in the list of analyzed \n",
    "    # sessions and write the session name in the list of analyzed sessions.\n",
    "    # process_session() analyzes the session and saves the results\n",
    "    # and figure in the Analysis folder.\n",
    "    for i, session in enumerate(session_list[mouse]):\n",
    "        print(f\"{mouse}, session {i + 1} out of {len(session_list[mouse])}\", end=\"\")\n",
    "        start_time: float = time.time()\n",
    "        process: bool = False if session_list[mouse][i] in listSessionAnalyzed else True\n",
    "        #process: bool = True  # Forcing processing of all sessions\n",
    "        process_session(path_to_data_folder+mouse, session, process=process)\n",
    "        if process:\n",
    "            with open(txt, \"a\", encoding=\"utf-8\") as f:\n",
    "                # write the session name in the list of analyzed sessions if it is not already there\n",
    "                if session not in listSessionAnalyzed:\n",
    "                    f.write(session + \"\\n\")\n",
    "        gc.collect()\n",
    "        print(f\" processed in {time.time() - start_time:.1f} seconds\")\n",
    "\n",
    "    # Create html file with all sessions for this mouse\n",
    "    html_mouse(path_to_data_folder, mouse)"
   ]
  },
  {
   "cell_type": "markdown",
   "metadata": {},
   "source": [
    "### Process a defined subset of sessions of a single mice in the mouse_list"
   ]
  },
  {
   "cell_type": "code",
   "execution_count": null,
   "metadata": {},
   "outputs": [],
   "source": [
    "# same of code as above if you want to process a single session for a single mouse (obviously yu can process two or three)\n",
    "# mouse=\"MOU2334\"\n",
    "# session_list=['MOU2334_20240614-1015']\n",
    "mouse=\"MOU4175\"\n",
    "session_list=['MOU4175_20230712-1809']\n",
    "\n",
    "print(f\"Processing {mouse}\")\n",
    "\n",
    "# Define and create analysis folder if it doesn't exist\n",
    "analysis_folder: str = path_to_data_folder + os.sep + mouse + os.sep + \"Analysis\"\n",
    "if not os.path.exists(analysis_folder):\n",
    "    os.mkdir(analysis_folder)\n",
    "\n",
    "\n",
    "\n",
    "# Process each session of the mouse if it is not in the list of analyzed \n",
    "# sessions and write the session name in the list of analyzed sessions.\n",
    "# process_session() analyzes the session and saves the results\n",
    "# and figure in the Analysis folder.\n",
    "for i, session in enumerate(session_list):\n",
    "    print(f\"{mouse}, session {i + 1} out of {len(session_list)}\", end=\"\")\n",
    "    start_time: float = time.time()\n",
    "    #process: bool = False if session_list[mouse][i] in listSessionAnalyzed else True\n",
    "    process: bool = True  # Forcing processing of all sessions\n",
    "    list_epochs=process_session(path_to_data_folder+mouse, session, process=process)\n",
    "    # if process:\n",
    "    #     with open(txt, \"a\", encoding=\"utf-8\") as f:\n",
    "    #         # write the session name in the list of analyzed sessions if it is not already there\n",
    "    #         if session not in listSessionAnalyzed:\n",
    "    #             f.write(session + \"\\n\")\n",
    "    gc.collect()\n",
    "    print(f\" processed in {time.time() - start_time:.1f} seconds\")\n",
    "\n",
    "# Create html file with all sessions for this mouse\n",
    "#html_mouse(path_to_data_folder, mouse)"
   ]
  }
 ],
 "metadata": {
  "kernelspec": {
   "display_name": "MyCorticoStriatalEnv",
   "language": "python",
   "name": "python3"
  },
  "language_info": {
   "codemirror_mode": {
    "name": "ipython",
    "version": 3
   },
   "file_extension": ".py",
   "mimetype": "text/x-python",
   "name": "python",
   "nbconvert_exporter": "python",
   "pygments_lexer": "ipython3",
   "version": "3.10.12"
  },
  "orig_nbformat": 4,
  "vscode": {
   "interpreter": {
    "hash": "ef32595c762ccb9739cab44a3564fd7db14788ae719ff921a68f38e5db018a2a"
   }
  }
 },
 "nbformat": 4,
 "nbformat_minor": 2
}
