{
 "cells": [
  {
   "attachments": {},
   "cell_type": "markdown",
   "metadata": {},
   "source": [
    "# Patchouris analysis notebook\n",
    "'''Documentation about the task here'''"
   ]
  },
  {
   "cell_type": "markdown",
   "metadata": {},
   "source": [
    "### Imports  \n",
    "All functions are in behavior_analysis_functions.py"
   ]
  },
  {
   "cell_type": "code",
   "execution_count": 1,
   "metadata": {},
   "outputs": [],
   "source": [
    "import os\n",
    "import gc\n",
    "import glob\n",
    "import time\n",
    "from behavior_analysis_functions import list_sessions_analyzed, \\\n",
    "                                    process_session, html_mouse, MOUSE_STRING\n"
   ]
  },
  {
   "cell_type": "markdown",
   "metadata": {},
   "source": [
    "### Get mice data\n",
    "Define root, get mice list and session for each mouse"
   ]
  },
  {
   "cell_type": "code",
   "execution_count": 3,
   "metadata": {},
   "outputs": [
    {
     "name": "stdout",
     "output_type": "stream",
     "text": [
      "Found 2 mice in the root folder:\n",
      "---{,_,\">  ~Hello, I'm MOU4436! I have foraged for 2 sessions.\n",
      "['MOU4436_20240307-1216', 'MOU4436_20240307-1658'] \n",
      "\n",
      "---{,_,\">  ~Hello, I'm MOU4437! I have foraged for 2 sessions.\n",
      "['MOU4437_20240311-1721', 'MOU4437_20240312-1140'] \n",
      "\n"
     ]
    }
   ],
   "source": [
    "# Root of all mice data\n",
    "# root: str = 'C:'+os.sep+'Users'+os.sep+'MORVAN'+os.sep+'Documents'+os.sep+'patchouris'+os.sep+'Sample_Data'+os.sep\n",
    "root: str = '/home/david/Documents/Code/ForagingProject/Patchouris/patchouris/Sample_Data/'\n",
    "\n",
    "# List all mice in the root folder\n",
    "mouse_list: list[str] = [os.path.basename(path) for path in glob.glob(root+\"/MOU*\")]\n",
    "print(f'Found {len(mouse_list)} {\"mice\" if len(mouse_list)>1 else \"mouse\"} in the root folder:')\n",
    "\n",
    "session_list: dict[str, list[str]] = {}\n",
    "for mouse in mouse_list:\n",
    "    mouse_folder = root + mouse\n",
    "    session_list[mouse] = [name for name in os.listdir(mouse_folder)\n",
    "                            if os.path.isdir(os.path.join(mouse_folder, name))\n",
    "                            and name.startswith('MOU')]\n",
    "    nb_sessions: int = len(session_list[mouse])\n",
    "    print(f'{MOUSE_STRING}  ~Hello, I\\'m {mouse}! I have foraged for {nb_sessions} sessions.')\n",
    "    print(session_list[mouse], '\\n')\n",
    "\n",
    "# mouse_list: list[str] = [\"MOU4436\", \"MOU4437\"]  # For testing"
   ]
  },
  {
   "cell_type": "markdown",
   "metadata": {},
   "source": [
    "### Process sessions"
   ]
  },
  {
   "cell_type": "code",
   "execution_count": 4,
   "metadata": {},
   "outputs": [
    {
     "name": "stdout",
     "output_type": "stream",
     "text": [
      "Processing MOU4436\n",
      "MOU4436, session 1 out of 2 processed in 22.7 seconds\n",
      "MOU4436, session 2 out of 2 processed in 22.9 seconds\n",
      "Processing MOU4437\n",
      "MOU4437, session 1 out of 2 processed in 21.6 seconds\n",
      "MOU4437, session 2 out of 2 processed in 24.9 seconds\n"
     ]
    }
   ],
   "source": [
    "for mouse in mouse_list:\n",
    "    print(f\"Processing {mouse}\")\n",
    "\n",
    "    # Define and create analysis folder if it doesn't exist\n",
    "    analysis_folder: str = root + os.sep + mouse + os.sep + \"Analysis\"\n",
    "    if not os.path.exists(analysis_folder):\n",
    "        os.mkdir(analysis_folder)\n",
    "\n",
    "    # Check and get list of analyzed sessions for this mouse\n",
    "    txt: str = analysis_folder + os.sep + \"ListSessionsAnalyzed.txt\"\n",
    "    listSessionAnalyzed: list[str] = list_sessions_analyzed(txt)\n",
    "\n",
    "    # Process each session of the mouse if it is not in the list of analyzed \n",
    "    # sessions and write the session name in the list of analyzed sessions.\n",
    "    # process_session() analyzes the session and saves the results\n",
    "    # and figure in the Analysis folder.\n",
    "    for i, session in enumerate(session_list[mouse]):\n",
    "        print(f\"{mouse}, session {i + 1} out of {len(session_list[mouse])}\", end=\"\")\n",
    "        start_time: float = time.time()\n",
    "        process: bool = False if session_list[mouse][i] in listSessionAnalyzed else True\n",
    "        process: bool = True  # Forcing processing of all sessions\n",
    "        process_session(root+mouse, session, process=process)\n",
    "        if process:\n",
    "            with open(txt, \"a\", encoding=\"utf-8\") as f:\n",
    "                # write the session name in the list of analyzed sessions if it is not already there\n",
    "                if session not in listSessionAnalyzed:\n",
    "                    f.write(session + \"\\n\")\n",
    "        gc.collect()\n",
    "        print(f\" processed in {time.time() - start_time:.1f} seconds\")\n",
    "\n",
    "    # Create html file with all sessions for this mouse\n",
    "    html_mouse(root, mouse)"
   ]
  }
 ],
 "metadata": {
  "kernelspec": {
   "display_name": "MyCorticoStriatalEnv",
   "language": "python",
   "name": "python3"
  },
  "language_info": {
   "codemirror_mode": {
    "name": "ipython",
    "version": 3
   },
   "file_extension": ".py",
   "mimetype": "text/x-python",
   "name": "python",
   "nbconvert_exporter": "python",
   "pygments_lexer": "ipython3",
   "version": "3.9.13"
  },
  "orig_nbformat": 4,
  "vscode": {
   "interpreter": {
    "hash": "ef32595c762ccb9739cab44a3564fd7db14788ae719ff921a68f38e5db018a2a"
   }
  }
 },
 "nbformat": 4,
 "nbformat_minor": 2
}
